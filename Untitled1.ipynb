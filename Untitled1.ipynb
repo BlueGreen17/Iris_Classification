{
 "cells": [
  {
   "cell_type": "code",
   "execution_count": 5,
   "id": "4b1ada81",
   "metadata": {},
   "outputs": [],
   "source": [
    "import numpy as np\n",
    "import pandas as pd\n",
    "from sklearn.model_selection import train_test_split\n",
    "from sklearn.preprocessing import StandardScaler\n",
    "from sklearn.metrics import accuracy_score, confusion_matrix, classification_report\n",
    "from sklearn.linear_model import LogisticRegression\n",
    "from sklearn.ensemble import RandomForestClassifier\n",
    "from sklearn.svm import SVC\n",
    "\n"
   ]
  },
  {
   "cell_type": "code",
   "execution_count": 6,
   "id": "5af233f4",
   "metadata": {},
   "outputs": [],
   "source": [
    "# Load the Iris dataset\n",
    "iris_data = pd.read_csv(\"IRIS.csv\")\n",
    "X = iris_data.drop('species', axis=1)\n",
    "y = iris_data['species']"
   ]
  },
  {
   "cell_type": "code",
   "execution_count": 7,
   "id": "d71c38df",
   "metadata": {},
   "outputs": [],
   "source": [
    "# Split the dataset into training and testing sets\n",
    "X_train, X_test, y_train, y_test = train_test_split(X, y, test_size=0.2, random_state=42)\n"
   ]
  },
  {
   "cell_type": "code",
   "execution_count": 8,
   "id": "fd3b1e31",
   "metadata": {},
   "outputs": [],
   "source": [
    "# Standardize features\n",
    "scaler = StandardScaler()\n",
    "X_train_scaled = scaler.fit_transform(X_train)\n",
    "X_test_scaled = scaler.transform(X_test)\n"
   ]
  },
  {
   "cell_type": "code",
   "execution_count": 9,
   "id": "6c0191fb",
   "metadata": {},
   "outputs": [],
   "source": [
    "# Initialize and train Logistic Regression\n",
    "logistic_reg = LogisticRegression()\n",
    "logistic_reg.fit(X_train_scaled, y_train)\n",
    "logistic_reg_train_pred = logistic_reg.predict(X_train_scaled)\n",
    "logistic_reg_test_pred = logistic_reg.predict(X_test_scaled)\n",
    "logistic_reg_train_accuracy = accuracy_score(y_train, logistic_reg_train_pred)\n",
    "logistic_reg_test_accuracy = accuracy_score(y_test, logistic_reg_test_pred)\n"
   ]
  },
  {
   "cell_type": "code",
   "execution_count": 10,
   "id": "5061010e",
   "metadata": {},
   "outputs": [
    {
     "name": "stdout",
     "output_type": "stream",
     "text": [
      "Logistic Regression Train Accuracy: 0.9666666666666667\n",
      "Logistic Regression Test Accuracy: 1.0\n",
      "\n",
      "Logistic Regression Classification Report:\n",
      "                 precision    recall  f1-score   support\n",
      "\n",
      "    Iris-setosa       1.00      1.00      1.00        10\n",
      "Iris-versicolor       1.00      1.00      1.00         9\n",
      " Iris-virginica       1.00      1.00      1.00        11\n",
      "\n",
      "       accuracy                           1.00        30\n",
      "      macro avg       1.00      1.00      1.00        30\n",
      "   weighted avg       1.00      1.00      1.00        30\n",
      "\n",
      "\n",
      "Logistic Regression Confusion Matrix:\n",
      "[[10  0  0]\n",
      " [ 0  9  0]\n",
      " [ 0  0 11]]\n"
     ]
    }
   ],
   "source": [
    "# Display results for Logistic Regression\n",
    "print(\"Logistic Regression Train Accuracy:\", logistic_reg_train_accuracy)\n",
    "print(\"Logistic Regression Test Accuracy:\", logistic_reg_test_accuracy)\n",
    "print(\"\\nLogistic Regression Classification Report:\")\n",
    "print(classification_report(y_test, logistic_reg_test_pred))\n",
    "print(\"\\nLogistic Regression Confusion Matrix:\")\n",
    "print(confusion_matrix(y_test, logistic_reg_test_pred))"
   ]
  },
  {
   "cell_type": "code",
   "execution_count": 11,
   "id": "19acf384",
   "metadata": {},
   "outputs": [
    {
     "name": "stdout",
     "output_type": "stream",
     "text": [
      "\n",
      "Random Forest Train Accuracy: 1.0\n",
      "Random Forest Test Accuracy: 1.0\n",
      "\n",
      "Random Forest Classification Report:\n",
      "                 precision    recall  f1-score   support\n",
      "\n",
      "    Iris-setosa       1.00      1.00      1.00        10\n",
      "Iris-versicolor       1.00      1.00      1.00         9\n",
      " Iris-virginica       1.00      1.00      1.00        11\n",
      "\n",
      "       accuracy                           1.00        30\n",
      "      macro avg       1.00      1.00      1.00        30\n",
      "   weighted avg       1.00      1.00      1.00        30\n",
      "\n",
      "\n",
      "Random Forest Confusion Matrix:\n",
      "[[10  0  0]\n",
      " [ 0  9  0]\n",
      " [ 0  0 11]]\n"
     ]
    }
   ],
   "source": [
    "# Initialize and train Random Forest\n",
    "random_forest = RandomForestClassifier(n_estimators=100, random_state=42)\n",
    "random_forest.fit(X_train_scaled, y_train)\n",
    "random_forest_train_pred = random_forest.predict(X_train_scaled)\n",
    "random_forest_test_pred = random_forest.predict(X_test_scaled)\n",
    "random_forest_train_accuracy = accuracy_score(y_train, random_forest_train_pred)\n",
    "random_forest_test_accuracy = accuracy_score(y_test, random_forest_test_pred)\n",
    "\n",
    "# Display results for Random Forest\n",
    "print(\"\\nRandom Forest Train Accuracy:\", random_forest_train_accuracy)\n",
    "print(\"Random Forest Test Accuracy:\", random_forest_test_accuracy)\n",
    "print(\"\\nRandom Forest Classification Report:\")\n",
    "print(classification_report(y_test, random_forest_test_pred))\n",
    "print(\"\\nRandom Forest Confusion Matrix:\")\n",
    "print(confusion_matrix(y_test, random_forest_test_pred))"
   ]
  },
  {
   "cell_type": "code",
   "execution_count": 12,
   "id": "998abb85",
   "metadata": {},
   "outputs": [
    {
     "name": "stdout",
     "output_type": "stream",
     "text": [
      "\n",
      "SVM Train Accuracy: 0.9833333333333333\n",
      "SVM Test Accuracy: 0.9666666666666667\n",
      "\n",
      "SVM Classification Report:\n",
      "                 precision    recall  f1-score   support\n",
      "\n",
      "    Iris-setosa       1.00      1.00      1.00        10\n",
      "Iris-versicolor       1.00      0.89      0.94         9\n",
      " Iris-virginica       0.92      1.00      0.96        11\n",
      "\n",
      "       accuracy                           0.97        30\n",
      "      macro avg       0.97      0.96      0.97        30\n",
      "   weighted avg       0.97      0.97      0.97        30\n",
      "\n",
      "\n",
      "SVM Confusion Matrix:\n",
      "[[10  0  0]\n",
      " [ 0  8  1]\n",
      " [ 0  0 11]]\n"
     ]
    }
   ],
   "source": [
    "# Initialize and train Support Vector Machine (SVM)\n",
    "svm_classifier = SVC(kernel='linear')\n",
    "svm_classifier.fit(X_train_scaled, y_train)\n",
    "svm_train_pred = svm_classifier.predict(X_train_scaled)\n",
    "svm_test_pred = svm_classifier.predict(X_test_scaled)\n",
    "svm_train_accuracy = accuracy_score(y_train, svm_train_pred)\n",
    "svm_test_accuracy = accuracy_score(y_test, svm_test_pred)\n",
    "\n",
    "# Display results for SVM\n",
    "print(\"\\nSVM Train Accuracy:\", svm_train_accuracy)\n",
    "print(\"SVM Test Accuracy:\", svm_test_accuracy)\n",
    "print(\"\\nSVM Classification Report:\")\n",
    "print(classification_report(y_test, svm_test_pred))\n",
    "print(\"\\nSVM Confusion Matrix:\")\n",
    "print(confusion_matrix(y_test, svm_test_pred))"
   ]
  },
  {
   "cell_type": "code",
   "execution_count": null,
   "id": "34cee1ce",
   "metadata": {},
   "outputs": [],
   "source": []
  }
 ],
 "metadata": {
  "kernelspec": {
   "display_name": "Python 3 (ipykernel)",
   "language": "python",
   "name": "python3"
  },
  "language_info": {
   "codemirror_mode": {
    "name": "ipython",
    "version": 3
   },
   "file_extension": ".py",
   "mimetype": "text/x-python",
   "name": "python",
   "nbconvert_exporter": "python",
   "pygments_lexer": "ipython3",
   "version": "3.10.9"
  }
 },
 "nbformat": 4,
 "nbformat_minor": 5
}
